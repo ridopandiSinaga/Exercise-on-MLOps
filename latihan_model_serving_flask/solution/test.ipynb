{
 "cells": [
  {
   "cell_type": "code",
   "execution_count": 5,
   "metadata": {},
   "outputs": [],
   "source": [
    "import requests\n",
    "import tensorflow as tf\n",
    "import numpy as np\n",
    "import json\n",
    "import matplotlib.pyplot as plt"
   ]
  },
  {
   "cell_type": "code",
   "execution_count": 6,
   "metadata": {},
   "outputs": [],
   "source": [
    "fashion_mnist = tf.keras.datasets.fashion_mnist\n",
    "(train_images, train_labels), (test_images, test_labels) = fashion_mnist.load_data()\n",
    "\n",
    "train_images = train_images\n",
    "\n",
    "test_images = test_images\n",
    "\n",
    "class_names = ['T-shirt/top', 'Trouser', 'Pullover', 'Dress',\n",
    "               'Coat', 'Sandal', 'Shirt', 'Sneaker', 'Bag', 'Ankle boot']\n"
   ]
  },
  {
   "cell_type": "code",
   "execution_count": 12,
   "metadata": {},
   "outputs": [
    {
     "data": {
      "image/png": "[encoded data removed]",
      "text/plain": [
       "<Figure size 640x480 with 1 Axes>"
      ]
     },
     "metadata": {},
     "output_type": "display_data"
    },
    {
     "name": "stdout",
     "output_type": "stream",
     "text": [
      "Image label: Sandal\n"
     ]
    }
   ],
   "source": [
    "# Grab an image from the test dataset.\n",
    "image = test_images[8]\n",
    "\n",
    "\n",
    "plt.imshow(image)\n",
    "plt.show()\n",
    "print(\"Image label: \" + class_names[test_labels[8]])"
   ]
  },
  {
   "cell_type": "markdown",
   "metadata": {},
   "source": [
    "## Make prediction request"
   ]
  },
  {
   "cell_type": "code",
   "execution_count": 13,
   "metadata": {},
   "outputs": [
    {
     "name": "stdout",
     "output_type": "stream",
     "text": [
      "Sandal\n"
     ]
    }
   ],
   "source": [
    "json_data = json.dumps(\n",
    "    {\n",
    "        \"data\": image.tolist()\n",
    "    }\n",
    ")\n",
    "\n",
    "endpoint = \"http://127.0.0.1:5000/predict\"\n",
    "headers = {\"content-type\": \"application/json\"}\n",
    "\n",
    "response = requests.post(endpoint, data=json_data, headers=headers)\n",
    "prediction_result = response.json()[\"prediction\"]\n",
    "print(prediction_result)"
   ]
  },
  {
   "cell_type": "code",
   "execution_count": null,
   "metadata": {},
   "outputs": [],
   "source": []
  }
 ],
 "metadata": {
  "kernelspec": {
   "display_name": "Python 3.8.13 ('tfx_mlops')",
   "language": "python",
   "name": "python3"
  },
  "language_info": {
   "codemirror_mode": {
    "name": "ipython",
    "version": 3
   },
   "file_extension": ".py",
   "mimetype": "text/x-python",
   "name": "python",
   "nbconvert_exporter": "python",
   "pygments_lexer": "ipython3",
   "version": "3.10.5"
  },
  "orig_nbformat": 4,
  "vscode": {
   "interpreter": {
    "hash": "455335cfd909c56542285c78762a473177bc2f2ae50e7dcd1861467146f8b87f"
   }
  }
 },
 "nbformat": 4,
 "nbformat_minor": 2
}
